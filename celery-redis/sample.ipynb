{
 "cells": [
  {
   "cell_type": "code",
   "execution_count": 1,
   "id": "6914ef56",
   "metadata": {},
   "outputs": [
    {
     "name": "stdout",
     "output_type": "stream",
     "text": [
      "Collecting celery\n",
      "  Using cached celery-5.5.3-py3-none-any.whl.metadata (22 kB)\n",
      "Collecting billiard<5.0,>=4.2.1 (from celery)\n",
      "  Using cached billiard-4.2.1-py3-none-any.whl.metadata (4.4 kB)\n",
      "Collecting kombu<5.6,>=5.5.2 (from celery)\n",
      "  Using cached kombu-5.5.4-py3-none-any.whl.metadata (3.5 kB)\n",
      "Collecting vine<6.0,>=5.1.0 (from celery)\n",
      "  Using cached vine-5.1.0-py3-none-any.whl.metadata (2.7 kB)\n",
      "Requirement already satisfied: click<9.0,>=8.1.2 in /home/kj/miniconda3/lib/python3.12/site-packages (from celery) (8.2.1)\n",
      "Collecting click-didyoumean>=0.3.0 (from celery)\n",
      "  Using cached click_didyoumean-0.3.1-py3-none-any.whl.metadata (3.9 kB)\n",
      "Collecting click-repl>=0.2.0 (from celery)\n",
      "  Using cached click_repl-0.3.0-py3-none-any.whl.metadata (3.6 kB)\n",
      "Collecting click-plugins>=1.1.1 (from celery)\n",
      "  Using cached click_plugins-1.1.1.2-py2.py3-none-any.whl.metadata (6.5 kB)\n",
      "Requirement already satisfied: python-dateutil>=2.8.2 in /home/kj/miniconda3/lib/python3.12/site-packages (from celery) (2.9.0.post0)\n",
      "Requirement already satisfied: prompt-toolkit>=3.0.36 in /home/kj/miniconda3/lib/python3.12/site-packages (from click-repl>=0.2.0->celery) (3.0.51)\n",
      "Collecting amqp<6.0.0,>=5.1.1 (from kombu<5.6,>=5.5.2->celery)\n",
      "  Using cached amqp-5.3.1-py3-none-any.whl.metadata (8.9 kB)\n",
      "Collecting tzdata>=2025.2 (from kombu<5.6,>=5.5.2->celery)\n",
      "  Using cached tzdata-2025.2-py2.py3-none-any.whl.metadata (1.4 kB)\n",
      "Requirement already satisfied: packaging in /home/kj/miniconda3/lib/python3.12/site-packages (from kombu<5.6,>=5.5.2->celery) (24.2)\n",
      "Requirement already satisfied: six>=1.5 in /home/kj/miniconda3/lib/python3.12/site-packages (from python-dateutil>=2.8.2->celery) (1.17.0)\n",
      "Requirement already satisfied: wcwidth in /home/kj/miniconda3/lib/python3.12/site-packages (from prompt-toolkit>=3.0.36->click-repl>=0.2.0->celery) (0.2.13)\n",
      "Using cached celery-5.5.3-py3-none-any.whl (438 kB)\n",
      "Using cached billiard-4.2.1-py3-none-any.whl (86 kB)\n",
      "Using cached click_didyoumean-0.3.1-py3-none-any.whl (3.6 kB)\n",
      "Using cached click_plugins-1.1.1.2-py2.py3-none-any.whl (11 kB)\n",
      "Using cached click_repl-0.3.0-py3-none-any.whl (10 kB)\n",
      "Using cached kombu-5.5.4-py3-none-any.whl (210 kB)\n",
      "Using cached vine-5.1.0-py3-none-any.whl (9.6 kB)\n",
      "Using cached amqp-5.3.1-py3-none-any.whl (50 kB)\n",
      "Using cached tzdata-2025.2-py2.py3-none-any.whl (347 kB)\n",
      "Installing collected packages: vine, tzdata, click-plugins, click-didyoumean, billiard, click-repl, amqp, kombu, celery\n",
      "Successfully installed amqp-5.3.1 billiard-4.2.1 celery-5.5.3 click-didyoumean-0.3.1 click-plugins-1.1.1.2 click-repl-0.3.0 kombu-5.5.4 tzdata-2025.2 vine-5.1.0\n"
     ]
    }
   ],
   "source": [
    "!pip install celery"
   ]
  },
  {
   "cell_type": "code",
   "execution_count": null,
   "id": "016c36e9",
   "metadata": {},
   "outputs": [],
   "source": [
    "from task.celery import app\n",
    "from task.tasks import async_add, async_mult\n",
    "#celery -A task worker"
   ]
  },
  {
   "cell_type": "code",
   "execution_count": 20,
   "id": "227231c2",
   "metadata": {},
   "outputs": [],
   "source": [
    "# Call the task asynchronously\n",
    "result = async_add.delay(4, 6)"
   ]
  },
  {
   "cell_type": "code",
   "execution_count": null,
   "id": "8b14cb52",
   "metadata": {},
   "outputs": [
    {
     "name": "stdout",
     "output_type": "stream",
     "text": [
      "Task Result: 10\n"
     ]
    }
   ],
   "source": [
    "# Get the result (will block until the task completes)\n",
    "print(f\"Task Result: {result.get()}\")"
   ]
  },
  {
   "cell_type": "code",
   "execution_count": 22,
   "id": "3a79e56b",
   "metadata": {},
   "outputs": [],
   "source": [
    "result = async_mult.delay(3, 4)"
   ]
  },
  {
   "cell_type": "code",
   "execution_count": null,
   "id": "818e874d",
   "metadata": {},
   "outputs": [
    {
     "name": "stdout",
     "output_type": "stream",
     "text": [
      "Task Result: 12\n"
     ]
    }
   ],
   "source": [
    "print(f\"Task Result: {result.get()}\")"
   ]
  },
  {
   "cell_type": "code",
   "execution_count": null,
   "id": "96ceb6b1",
   "metadata": {},
   "outputs": [],
   "source": [
    "#celery -A task worker"
   ]
  }
 ],
 "metadata": {
  "kernelspec": {
   "display_name": "base",
   "language": "python",
   "name": "python3"
  },
  "language_info": {
   "codemirror_mode": {
    "name": "ipython",
    "version": 3
   },
   "file_extension": ".py",
   "mimetype": "text/x-python",
   "name": "python",
   "nbconvert_exporter": "python",
   "pygments_lexer": "ipython3",
   "version": "3.12.9"
  }
 },
 "nbformat": 4,
 "nbformat_minor": 5
}
