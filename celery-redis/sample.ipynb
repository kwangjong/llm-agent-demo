{
 "cells": [
  {
   "cell_type": "code",
   "execution_count": 19,
   "id": "016c36e9",
   "metadata": {},
   "outputs": [],
   "source": [
    "from task.celery import app\n",
    "from task.tasks import async_add, async_mult"
   ]
  },
  {
   "cell_type": "code",
   "execution_count": 20,
   "id": "227231c2",
   "metadata": {},
   "outputs": [],
   "source": [
    "# Call the task asynchronously\n",
    "result = async_add.delay(4, 6)"
   ]
  },
  {
   "cell_type": "code",
   "execution_count": null,
   "id": "8b14cb52",
   "metadata": {},
   "outputs": [
    {
     "name": "stdout",
     "output_type": "stream",
     "text": [
      "Task Result: 10\n"
     ]
    }
   ],
   "source": [
    "# Get the result (will block until the task completes)\n",
    "print(f\"Task Result: {result.get()}\")"
   ]
  },
  {
   "cell_type": "code",
   "execution_count": 22,
   "id": "3a79e56b",
   "metadata": {},
   "outputs": [],
   "source": [
    "result = async_mult.delay(3, 4)"
   ]
  },
  {
   "cell_type": "code",
   "execution_count": null,
   "id": "818e874d",
   "metadata": {},
   "outputs": [
    {
     "name": "stdout",
     "output_type": "stream",
     "text": [
      "Task Result: 12\n"
     ]
    }
   ],
   "source": [
    "print(f\"Task Result: {result.get()}\")"
   ]
  },
  {
   "cell_type": "code",
   "execution_count": null,
   "id": "96ceb6b1",
   "metadata": {},
   "outputs": [],
   "source": [
    "#celery -A task worker"
   ]
  }
 ],
 "metadata": {
  "kernelspec": {
   "display_name": "Python 3",
   "language": "python",
   "name": "python3"
  },
  "language_info": {
   "codemirror_mode": {
    "name": "ipython",
    "version": 3
   },
   "file_extension": ".py",
   "mimetype": "text/x-python",
   "name": "python",
   "nbconvert_exporter": "python",
   "pygments_lexer": "ipython3",
   "version": "3.10.12"
  }
 },
 "nbformat": 4,
 "nbformat_minor": 5
}
